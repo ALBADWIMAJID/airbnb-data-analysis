{
 "cells": [
  {
   "cell_type": "markdown",
   "id": "18533963",
   "metadata": {},
   "source": [
    "# 🏠 Airbnb Data Analysis (Exploratory Data Analysis)\n",
    "\n",
    "A simple project to analyze Airbnb dataset using Python, showcasing steps in Exploratory Data Analysis (EDA)."
   ]
  },
  {
   "cell_type": "code",
   "execution_count": null,
   "id": "b8e929bf",
   "metadata": {},
   "outputs": [],
   "source": [
    "import pandas as pd\n",
    "import numpy as np\n",
    "import matplotlib.pyplot as plt\n",
    "import seaborn as sns\n",
    "from sklearn.preprocessing import LabelEncoder"
   ]
  },
  {
   "cell_type": "code",
   "execution_count": null,
   "id": "e8103911",
   "metadata": {},
   "outputs": [],
   "source": [
    "# Load and clean data\n",
    "df = pd.read_csv('Airbnb_Open_Data.csv', encoding='utf-8')\n",
    "df['price'] = df['price'].replace(r'[\\$,]', '', regex=True).astype(float)\n",
    "df['number of reviews'] = pd.to_numeric(df['number of reviews'], errors='coerce')\n",
    "df = df.dropna(subset=['price', 'number of reviews', 'room type'])"
   ]
  },
  {
   "cell_type": "code",
   "execution_count": null,
   "id": "b1db41c8",
   "metadata": {},
   "outputs": [],
   "source": [
    "# Preview the first 5 rows\n",
    "df.head()"
   ]
  },
  {
   "cell_type": "code",
   "execution_count": null,
   "id": "e75b1851",
   "metadata": {},
   "outputs": [],
   "source": [
    "# Replace first value in 'room type' with mode\n",
    "room_mode = df['room type'].mode()[0]\n",
    "df.iloc[0, df.columns.get_loc('room type')] = room_mode\n",
    "print(f\"First value in 'room type' replaced with mode: {room_mode}\")"
   ]
  },
  {
   "cell_type": "code",
   "execution_count": null,
   "id": "0d45d229",
   "metadata": {},
   "outputs": [],
   "source": [
    "# Encode 'room type'\n",
    "le = LabelEncoder()\n",
    "df['room type encoded'] = le.fit_transform(df['room type'])\n",
    "df[['room type', 'room type encoded']].head()"
   ]
  },
  {
   "cell_type": "code",
   "execution_count": null,
   "id": "6e8d5b87",
   "metadata": {},
   "outputs": [],
   "source": [
    "# Plot histogram of prices\n",
    "plt.hist(df['price'], bins=30, color='black', alpha=0.8)\n",
    "plt.xlabel('Price')\n",
    "plt.ylabel('Frequency')\n",
    "plt.title('Price Distribution')\n",
    "plt.show()"
   ]
  },
  {
   "cell_type": "code",
   "execution_count": null,
   "id": "4c2e6a4a",
   "metadata": {},
   "outputs": [],
   "source": [
    "# Correlation between price and number of reviews\n",
    "correlation = df['price'].corr(df['number of reviews'])\n",
    "print(f\"Correlation coefficient between price and number of reviews: {correlation:.2f}\")"
   ]
  },
  {
   "cell_type": "code",
   "execution_count": null,
   "id": "e8d0195c",
   "metadata": {},
   "outputs": [],
   "source": [
    "# Boxplot for price outliers\n",
    "plt.boxplot(df['price'])\n",
    "plt.ylabel('Price')\n",
    "plt.title('Price Outliers')\n",
    "plt.show()"
   ]
  },
  {
   "cell_type": "code",
   "execution_count": null,
   "id": "4c3ab506",
   "metadata": {},
   "outputs": [],
   "source": [
    "# Bar chart of room types\n",
    "room_counts = df['room type'].value_counts()\n",
    "room_counts.plot(kind='bar', color='gray')\n",
    "plt.xlabel('Room Type')\n",
    "plt.ylabel('Count')\n",
    "plt.title('Room Type Distribution')\n",
    "plt.show()"
   ]
  },
  {
   "cell_type": "code",
   "execution_count": null,
   "id": "a09a9c1d",
   "metadata": {},
   "outputs": [],
   "source": [
    "# Dashboard with multiple plots\n",
    "plt.figure(figsize=(10, 8))\n",
    "\n",
    "plt.subplot(2, 2, 1)\n",
    "plt.hist(df['price'], bins=30, color='black', alpha=0.8)\n",
    "plt.xlabel('Price')\n",
    "plt.ylabel('Frequency')\n",
    "plt.title('Price Distribution')\n",
    "\n",
    "plt.subplot(2, 2, 2)\n",
    "plt.scatter(df['price'], df['number of reviews'], color='black', alpha=0.5)\n",
    "plt.xlabel('Price')\n",
    "plt.ylabel('Number of Reviews')\n",
    "plt.title('Price vs. Reviews')\n",
    "\n",
    "plt.subplot(2, 2, 3)\n",
    "plt.boxplot(df['price'])\n",
    "plt.ylabel('Price')\n",
    "plt.title('Boxplot')\n",
    "\n",
    "plt.subplot(2, 2, 4)\n",
    "corr_matrix = df[['price', 'number of reviews']].corr()\n",
    "sns.heatmap(corr_matrix, annot=True, fmt='.2g', cmap='Blues')\n",
    "plt.title('Correlation Heatmap')\n",
    "\n",
    "plt.tight_layout()\n",
    "plt.show()"
   ]
  }
 ],
 "metadata": {},
 "nbformat": 4,
 "nbformat_minor": 5
}
